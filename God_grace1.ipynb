{
  "nbformat": 4,
  "nbformat_minor": 0,
  "metadata": {
    "colab": {
      "name": "Yolov4_Traffic_sign_detection.ipynb",
      "provenance": [],
      "collapsed_sections": [],
      "include_colab_link": true
    },
    "kernelspec": {
      "name": "python3",
      "display_name": "Python 3"
    },
    "accelerator": "GPU"
  },
  "cells": [
    {
      "cell_type": "markdown",
      "metadata": {
        "id": "view-in-github",
        "colab_type": "text"
      },
      "source": [
        "<a href=\"https://colab.research.google.com/github/appersaravanan/final_project/blob/master/God_grace1.ipynb\" target=\"_parent\"><img src=\"https://colab.research.google.com/assets/colab-badge.svg\" alt=\"Open In Colab\"/></a>"
      ]
    },
    {
      "cell_type": "code",
      "metadata": {
        "id": "d4l6GLrsp7Hd"
      },
      "source": [
        "from keras.preprocessing.image import ImageDataGenerator\n",
        "from keras.applications import densenet\n",
        "from keras.models import Sequential, Model, load_model\n",
        "from keras.layers import Conv2D, MaxPooling2D\n",
        "from keras.layers import Activation, Dropout, Flatten, Dense\n",
        "from keras.callbacks import EarlyStopping, ReduceLROnPlateau, ModelCheckpoint, Callback\n",
        "from keras import regularizers\n",
        "from keras import backend as K\n",
        "from keras.applications import VGG16\n",
        "import numpy as np\n",
        "import tensorflow as tf\n",
        "from tensorflow import keras\n",
        "from tensorflow.keras.layers import  MaxPooling2D,UpSampling2D,Input,BatchNormalization,Conv2D,Activation,MaxPool2D,Flatten,Dense\n",
        "from tensorflow.keras.models import Model,Sequential,load_model\n",
        "from tensorflow.keras.optimizers import Adam,SGD\n",
        "from tensorflow.keras.datasets import cifar10\n",
        "import matplotlib.pyplot as plt\n",
        "from keras.utils import np_utils\n",
        "from keras.preprocessing import image as image_utils\n",
        "from keras.applications.imagenet_utils import decode_predictions\n",
        "from keras.applications.imagenet_utils import preprocess_input\n",
        "from keras.applications import VGG16\n",
        "import cv2,os,tempfile\n",
        "import requests\n",
        "from keras.preprocessing import image\n",
        "from scipy.io import loadmat\n",
        "import tensorflow as tf\n",
        "import pandas as pd\n",
        "import cv2\n",
        "import matplotlib.pyplot as plt\n",
        "import tensorflow_datasets as tfds"
      ],
      "execution_count": 4,
      "outputs": []
    },
    {
      "cell_type": "code",
      "metadata": {
        "id": "ME4o5kyqqEec"
      },
      "source": [
        "img_width, img_height = 224, 224\n",
        "nb_train_samples = 8144\n",
        "nb_validation_samples = 4899\n",
        "epochs = 10\n",
        "batch_size = 64\n",
        "n_classes = 196"
      ],
      "execution_count": 5,
      "outputs": []
    },
    {
      "cell_type": "code",
      "metadata": {
        "colab": {
          "base_uri": "https://localhost:8080/"
        },
        "id": "RnSVS02BqOb0",
        "outputId": "7c75040e-1906-4916-bfa8-a16335c20b67"
      },
      "source": [
        "from google.colab import drive\n",
        "drive.mount('/content/drive')\n",
        "%cd /content\n",
        "!mkdir final_project\n",
        "%cd ./final_project\n",
        "!mkdir data\n",
        "%cd data"
      ],
      "execution_count": 3,
      "outputs": [
        {
          "output_type": "stream",
          "text": [
            "Mounted at /content/drive\n",
            "/content\n",
            "/content/final_project\n",
            "/content/final_project/data\n"
          ],
          "name": "stdout"
        }
      ]
    },
    {
      "cell_type": "code",
      "metadata": {
        "colab": {
          "base_uri": "https://localhost:8080/"
        },
        "id": "iAO2wbigrUfy",
        "outputId": "4bac876f-0914-451f-c4da-b8c596663154"
      },
      "source": [
        "\n",
        "!rm -f car_devkit.tgz\n",
        "!wget https://ai.stanford.edu/~jkrause/cars/car_devkit.tgz\n",
        "!tar xvzf car_devkit.tgz"
      ],
      "execution_count": 4,
      "outputs": [
        {
          "output_type": "stream",
          "text": [
            "--2020-12-06 16:36:07--  https://ai.stanford.edu/~jkrause/cars/car_devkit.tgz\n",
            "Resolving ai.stanford.edu (ai.stanford.edu)... 171.64.68.10\n",
            "Connecting to ai.stanford.edu (ai.stanford.edu)|171.64.68.10|:443... connected.\n",
            "HTTP request sent, awaiting response... 200 OK\n",
            "Length: 330960 (323K) [application/x-gzip]\n",
            "Saving to: ‘car_devkit.tgz’\n",
            "\n",
            "car_devkit.tgz      100%[===================>] 323.20K   258KB/s    in 1.3s    \n",
            "\n",
            "2020-12-06 16:36:09 (258 KB/s) - ‘car_devkit.tgz’ saved [330960/330960]\n",
            "\n",
            "devkit/\n",
            "devkit/cars_meta.mat\n",
            "devkit/cars_train_annos.mat\n",
            "devkit/cars_test_annos.mat\n",
            "devkit/README.txt\n",
            "devkit/train_perfect_preds.txt\n",
            "devkit/eval_train.m\n"
          ],
          "name": "stdout"
        }
      ]
    },
    {
      "cell_type": "code",
      "metadata": {
        "id": "M9rC6jt5tTGr"
      },
      "source": [
        "!wget http://imagenet.stanford.edu/internal/car196/cars_train.tgz\n",
        "\n",
        "!tar xvzf cars_train.tgz\n",
        "!rm -f cars_train.tgz\n"
      ],
      "execution_count": null,
      "outputs": []
    },
    {
      "cell_type": "code",
      "metadata": {
        "colab": {
          "base_uri": "https://localhost:8080/"
        },
        "id": "g7k-QCs2DF_N",
        "outputId": "4ccbbcff-bf13-4c60-facc-c950c46d3cea"
      },
      "source": [
        "%cd /content/final_project/data"
      ],
      "execution_count": 6,
      "outputs": [
        {
          "output_type": "stream",
          "text": [
            "/content/final_project/data\n"
          ],
          "name": "stdout"
        }
      ]
    },
    {
      "cell_type": "code",
      "metadata": {
        "id": "6wxJRMegC-fV"
      },
      "source": [
        "!wget http://imagenet.stanford.edu/internal/car196/cars_test.tgz\n",
        "!tar xvzf cars_test.tgz\n",
        "!rm -f cars_test.tgz"
      ],
      "execution_count": null,
      "outputs": []
    },
    {
      "cell_type": "code",
      "metadata": {
        "id": "0v6l7PWYL7kI"
      },
      "source": [
        "%cd /content/final_project/data/cars_train/\n",
        "annotsa = loadmat('/content/final_project/data/devkit/cars_meta.mat')\n",
        "i=1\n",
        "classes_name=[]\n",
        "for name in annotsa['class_names'][0]:\n",
        "  dir_name=str(i)+'_'+str(name[0]).replace(' ','_')\n",
        "  os.makedirs(dir_name)\n",
        "  classes_name.append(dir_name)\n",
        "  i=i+1\n",
        "classes_name\n"
      ],
      "execution_count": null,
      "outputs": []
    },
    {
      "cell_type": "code",
      "metadata": {
        "id": "RbXBe7IEo7T7"
      },
      "source": [
        "%cd /content/final_project/data/cars_test/\n",
        "annotsa = loadmat('/content/final_project/data/devkit/cars_meta.mat')\n",
        "i=1\n",
        "classes_name=[]\n",
        "for name in annotsa['class_names'][0]:\n",
        "  dir_name=str(i)+'_'+str(name[0]).replace(' ','_')\n",
        "  os.makedirs(dir_name)\n",
        "  if dir_name == '174_Ram_C/V_Cargo_Van_Minivan_2012':\n",
        "    classes_name.append('174_Ram_C')\n",
        "  else :\n",
        "    classes_name.append(dir_name)\n",
        "  i=i+1\n",
        "classes_name"
      ],
      "execution_count": null,
      "outputs": []
    },
    {
      "cell_type": "code",
      "metadata": {
        "id": "FPo5RXE3-CuC"
      },
      "source": [
        "%cd /content/final_project/data/cars_test/\n",
        "annotsa = loadmat('/content/final_project/data/devkit/cars_meta.mat')\n",
        "i=1\n",
        "classes_name=[]\n",
        "for name in annotsa['class_names'][0]:\n",
        "  dir_name=str(i)+'_'+str(name[0]).replace(' ','_')\n",
        "  os.makedirs(dir_name)\n",
        "  if dir_name == '174_Ram_C/V_Cargo_Van_Minivan_2012':\n",
        "    classes_name.append('174_Ram_C')\n",
        "  else :\n",
        "    classes_name.append(dir_name)\n",
        "  i=i+1\n",
        "classes_name"
      ],
      "execution_count": null,
      "outputs": []
    },
    {
      "cell_type": "code",
      "metadata": {
        "id": "KpvFfBHNUyvr"
      },
      "source": [
        "import shutil\n",
        "from shutil import copyfile\n",
        "path_base='/content/final_project/data'\n",
        "train_data_dir = path_base + '/cars_train'\n",
        "validation_data_dir = path_base + '/cars_test'\n",
        "\n",
        "\n",
        "annos = loadmat('/content/final_project/data/devkit/cars_train_annos.mat')\n",
        "data = [[row.flat[0] for row in line] for line in annos['annotations'][0]]\n",
        "columns = ['bbox_x1', 'bbox_y1', 'bbox_x2', 'bbox_y2', 'class', 'fname']\n",
        "df_train = pd.DataFrame(data, columns=columns)\n",
        "gp=df_train.groupby('class')\n",
        "files=\"\"\n",
        "for index,classes in gp:\n",
        "    # print (classes_name[index-1])\n",
        "    files=classes['fname']\n",
        "    i=0\n",
        "    for name,file in files.items():\n",
        "        # print(file)\n",
        "        copyfile('{}/{}'.format(train_data_dir,file),'{}/{}/{}'.format(train_data_dir,classes_name[index-1],file))\n",
        "        if i<35:\n",
        "          copyfile('{}/{}'.format(train_data_dir,file),'{}/{}/{}'.format(validation_data_dir,classes_name[index-1],file))\n",
        "        i=i+1\n"
      ],
      "execution_count": 12,
      "outputs": []
    },
    {
      "cell_type": "code",
      "metadata": {
        "id": "HvkDpk6ZX0DL"
      },
      "source": [
        "from google.colab import drive\n",
        "drive.mount('/content/drive')"
      ],
      "execution_count": null,
      "outputs": []
    },
    {
      "cell_type": "code",
      "metadata": {
        "id": "cPPXcNo0osbs"
      },
      "source": [
        "annos = loadmat('/content/final_project/data/devkit/cars_test_annos.mat')\n",
        "data = [[row.flat[0] for row in line] for line in annos['annotations'][0]]\n",
        "columns = ['bbox_x1', 'bbox_y1', 'bbox_x2', 'bbox_y2', 'class']\n",
        "df_train = pd.DataFrame(data)\n",
        "df_train\n",
        "# gp=df_train.groupby('class')\n",
        "# files=\"\"\n",
        "# for index,classes in gp:\n",
        "#     # print (classes_name[index-1])\n",
        "#     files=classes['fname']\n",
        "#     i=0\n",
        "#     for name,file in files.items():\n",
        "#         # print(file)\n",
        "#         # copyfile('{}/{}'.format(train_data_dir,file),'{}/{}/{}'.format(train_data_dir,classes_name[index-1],file))\n",
        "#         if i<25:\n",
        "#           copyfile('{}/{}'.format(validation_data_dir,file),'{}/{}/{}'.format(validation_data_dir,classes_name[index-1],file))\n",
        "#         i=i+1"
      ],
      "execution_count": null,
      "outputs": []
    },
    {
      "cell_type": "code",
      "metadata": {
        "colab": {
          "base_uri": "https://localhost:8080/"
        },
        "id": "wbSinBdiDUEB",
        "outputId": "20ccb79b-2222-4b89-983a-fe11f0855c54"
      },
      "source": [
        "\n",
        "# train_batches = ImageDataGenerator(preprocessing_function=tf.keras.applications.vgg16.preprocess_input) \\\n",
        "#     .flow_from_directory(directory=train_path, target_size=(224,224), classes=['cat', 'dog'], batch_size=10)\n",
        "train_datagen = ImageDataGenerator(preprocessing_function=tf.keras.applications.vgg16.preprocess_input).flow_from_directory(\n",
        "    directory=train_data_dir,\n",
        "    target_size=(img_width, img_height),\n",
        "    class_mode='categorical',\n",
        "    batch_size=batch_size,\n",
        "    shuffle=True\n",
        "    )\n",
        "\n",
        "test_datagen = ImageDataGenerator(preprocessing_function=tf.keras.applications.vgg16.preprocess_input)\n",
        "\n",
        "\n",
        "\n",
        "validation_generator = test_datagen.flow_from_directory(\n",
        "    validation_data_dir,\n",
        "    target_size=(img_width, img_height),\n",
        "    batch_size=10,\n",
        "    class_mode='categorical',\n",
        "    shuffle=True\n",
        "    )"
      ],
      "execution_count": 13,
      "outputs": [
        {
          "output_type": "stream",
          "text": [
            "Found 8144 images belonging to 196 classes.\n",
            "Found 6814 images belonging to 196 classes.\n"
          ],
          "name": "stdout"
        }
      ]
    },
    {
      "cell_type": "code",
      "metadata": {
        "id": "u2O8hL1YnVdy"
      },
      "source": [
        ""
      ],
      "execution_count": null,
      "outputs": []
    },
    {
      "cell_type": "code",
      "metadata": {
        "id": "-hzSh8GTDqPI"
      },
      "source": [
        "\n",
        "vgg16_model = VGG16(weights='imagenet', include_top=False, input_shape=(224, 224, 3))\n",
        "\n",
        "for layer in enumerate(vgg16_model.layers):\n",
        "        layer[1].trainable = False\n",
        "for layer in vgg16_model.layers[15:]:\n",
        "            layer.trainable = True\n",
        "#flatten the results from conv block\n",
        "x = Flatten()(vgg16_model.output)\n",
        "\n",
        "#add another fully connected layers with batch norm and dropout\n",
        "x = Dense(4096, activation='relu')(x)\n",
        "x = BatchNormalization()(x)\n",
        "x = Dropout(0.7)(x)\n",
        "\n",
        "#add another fully connected layers with batch norm and dropout\n",
        "x = Dense(4096, activation='relu')(x)\n",
        "x = BatchNormalization()(x)\n",
        "x = Dropout(0.7)(x)\n",
        "\n",
        "#add logistic layer with all car classes\n",
        "predictions = Dense(n_classes, activation='softmax', name='predictions')(x)\n",
        "\n",
        "# this is the model we will train\n",
        "model = Model(inputs=vgg16_model.input, outputs=predictions)\n",
        "\n",
        "\n"
      ],
      "execution_count": 14,
      "outputs": []
    },
    {
      "cell_type": "code",
      "metadata": {
        "id": "fQhIXpwuDsc_"
      },
      "source": [
        "model.compile(optimizer=Adam(learning_rate=0.0001), loss='categorical_crossentropy', metrics=['accuracy'])\n",
        "# sgd = SGD(lr=0.0001, decay=lr_decay, momentum=0.9, nesterov=True)"
      ],
      "execution_count": 15,
      "outputs": []
    },
    {
      "cell_type": "code",
      "metadata": {
        "id": "4yHCxBh7DwEf"
      },
      "source": [
        "early_stop = EarlyStopping(monitor='val_loss', patience=8, verbose=1, min_delta=1e-4)\n",
        "reduce_lr = ReduceLROnPlateau(monitor='val_loss', factor=0.1, patience=4, verbose=1, min_delta=1e-4)\n",
        "callbacks_list = [early_stop, reduce_lr]"
      ],
      "execution_count": 8,
      "outputs": []
    },
    {
      "cell_type": "code",
      "metadata": {
        "id": "xyX9lEk2Nicu"
      },
      "source": [
        "model.summary()\n",
        "\n",
        "earlystop = EarlyStopping(monitor='val_loss', min_delta=0, patience=5, mode='auto')\n",
        "imagenette_builder = tfds.builder(\"cars196\")\n",
        "imagenette_info = imagenette_builder.info\n",
        "imagenette_builder.download_and_prepare()\n",
        "datasets = imagenette_builder.as_dataset(as_supervised=True)\n",
        "train_data , test_data =datasets['train'],datasets['test']"
      ],
      "execution_count": null,
      "outputs": []
    },
    {
      "cell_type": "code",
      "metadata": {
        "id": "7ec8o6RP1fyu"
      },
      "source": [
        "imagenette_info"
      ],
      "execution_count": null,
      "outputs": []
    },
    {
      "cell_type": "code",
      "metadata": {
        "id": "DAFHoGo7mj_P"
      },
      "source": [
        "def normalize_img(image, label):\n",
        "  \"\"\"Normalizes images: `uint8` -> `float32`.\"\"\"\n",
        "      \n",
        "  return tf.cast(tf.image.resize(image, (224, 224)), tf.float32) / 255.,  tf.one_hot(label,196)\n",
        "\n",
        "ds_train = train_data.map(\n",
        "   normalize_img, num_parallel_calls=tf.data.experimental.AUTOTUNE)\n",
        "ds_train = ds_train.cache()\n",
        "ds_train = ds_train.shuffle(imagenette_info.splits['train'].num_examples)\n",
        "ds_train = ds_train.batch(128)\n",
        "ds_train = ds_train.prefetch(tf.data.experimental.AUTOTUNE)\n",
        "\n",
        "ds_test= test_data.map(\n",
        "   normalize_img, num_parallel_calls=tf.data.experimental.AUTOTUNE)\n",
        "ds_test = ds_test.batch(128)\n",
        "ds_test = ds_test.prefetch(tf.data.experimental.AUTOTUNE)"
      ],
      "execution_count": 12,
      "outputs": []
    },
    {
      "cell_type": "code",
      "metadata": {
        "colab": {
          "base_uri": "https://localhost:8080/"
        },
        "id": "F1G0roZbDzmB",
        "outputId": "44210b68-6a69-46b8-ba0b-28ed24bb7f43"
      },
      "source": [
        "from google.colab import drive\n",
        "drive.mount('/content/drive')\n",
        "# %cd /content/drive/'My Drive'/\n",
        "# !mkdir checkpoints\n",
        "# %cd checkpoints\n",
        "# model.save_weights('./before_checkpoint1')\n",
        "model.compile(\n",
        "    optimizer='adam',    \n",
        "    loss='categorical_crossentropy',\n",
        "    metrics=['accuracy']\n",
        ")\n",
        "# model.compile(optimizer=Adam(learning_rate=0.0001), loss='categorical_crossentropy', metrics=['accuracy'])\n",
        "model_history = model.fit(\n",
        "    ds_train, \n",
        "    validation_data=ds_test, \n",
        "    shuffle=True,\n",
        "    epochs=100,\n",
        "    batch_size=128\n",
        ")\n",
        "\n",
        "model.save_weights('./after_checkpoint')"
      ],
      "execution_count": null,
      "outputs": [
        {
          "output_type": "stream",
          "text": [
            "Drive already mounted at /content/drive; to attempt to forcibly remount, call drive.mount(\"/content/drive\", force_remount=True).\n",
            "Epoch 1/100\n",
            "64/64 [==============================] - 40s 632ms/step - loss: 7.8199 - accuracy: 0.0082 - val_loss: 55.7784 - val_accuracy: 0.0063\n",
            "Epoch 2/100\n",
            "64/64 [==============================] - 40s 623ms/step - loss: 7.2746 - accuracy: 0.0147 - val_loss: 8.6580 - val_accuracy: 0.0177\n",
            "Epoch 3/100\n",
            "64/64 [==============================] - 42s 651ms/step - loss: 6.8385 - accuracy: 0.0182 - val_loss: 17.2088 - val_accuracy: 0.0093\n",
            "Epoch 4/100\n",
            "64/64 [==============================] - 41s 639ms/step - loss: 6.7566 - accuracy: 0.0176 - val_loss: 14.4547 - val_accuracy: 0.0088\n",
            "Epoch 5/100\n",
            "64/64 [==============================] - 40s 628ms/step - loss: 7.1301 - accuracy: 0.0163 - val_loss: 42.6391 - val_accuracy: 0.0095\n",
            "Epoch 6/100\n",
            "64/64 [==============================] - 40s 626ms/step - loss: 6.6790 - accuracy: 0.0238 - val_loss: 8.6294 - val_accuracy: 0.0189\n",
            "Epoch 7/100\n",
            "64/64 [==============================] - 43s 666ms/step - loss: 6.2787 - accuracy: 0.0320 - val_loss: 37.6012 - val_accuracy: 0.0068\n",
            "Epoch 8/100\n",
            "64/64 [==============================] - 41s 637ms/step - loss: 5.8119 - accuracy: 0.0405 - val_loss: 24.2528 - val_accuracy: 0.0143\n",
            "Epoch 9/100\n",
            "64/64 [==============================] - 40s 629ms/step - loss: 6.0579 - accuracy: 0.0408 - val_loss: 30.9329 - val_accuracy: 0.0096\n",
            "Epoch 10/100\n",
            "64/64 [==============================] - 40s 625ms/step - loss: 6.5487 - accuracy: 0.0255 - val_loss: 8.7339 - val_accuracy: 0.0128\n",
            "Epoch 11/100\n",
            "64/64 [==============================] - 40s 628ms/step - loss: 5.8289 - accuracy: 0.0443 - val_loss: 10.8537 - val_accuracy: 0.0165\n",
            "Epoch 12/100\n",
            "64/64 [==============================] - 43s 678ms/step - loss: 5.2855 - accuracy: 0.0599 - val_loss: 8.5125 - val_accuracy: 0.0233\n",
            "Epoch 13/100\n",
            "64/64 [==============================] - 40s 627ms/step - loss: 4.9933 - accuracy: 0.0785 - val_loss: 6.9719 - val_accuracy: 0.0266\n",
            "Epoch 14/100\n",
            "64/64 [==============================] - 40s 628ms/step - loss: 4.7759 - accuracy: 0.0948 - val_loss: 7.6542 - val_accuracy: 0.0349\n",
            "Epoch 15/100\n",
            "64/64 [==============================] - 40s 626ms/step - loss: 4.4765 - accuracy: 0.1261 - val_loss: 7.8034 - val_accuracy: 0.0489\n",
            "Epoch 16/100\n",
            "64/64 [==============================] - 45s 697ms/step - loss: 4.5201 - accuracy: 0.1219 - val_loss: 9.1718 - val_accuracy: 0.0405\n",
            "Epoch 17/100\n",
            "64/64 [==============================] - 41s 642ms/step - loss: 5.0327 - accuracy: 0.0896 - val_loss: 37.3837 - val_accuracy: 0.0104\n",
            "Epoch 18/100\n",
            "64/64 [==============================] - 40s 629ms/step - loss: 4.5370 - accuracy: 0.1049 - val_loss: 10.2184 - val_accuracy: 0.0373\n",
            "Epoch 19/100\n",
            "64/64 [==============================] - 40s 625ms/step - loss: 4.1365 - accuracy: 0.1516 - val_loss: 5.6688 - val_accuracy: 0.0639\n",
            "Epoch 20/100\n",
            "64/64 [==============================] - 42s 657ms/step - loss: 6.2801 - accuracy: 0.0686 - val_loss: 41.3757 - val_accuracy: 0.0051\n",
            "Epoch 21/100\n",
            "64/64 [==============================] - 42s 657ms/step - loss: 6.5653 - accuracy: 0.0211 - val_loss: 6.8528 - val_accuracy: 0.0211\n",
            "Epoch 22/100\n",
            "64/64 [==============================] - 40s 623ms/step - loss: 5.8237 - accuracy: 0.0390 - val_loss: 16.0877 - val_accuracy: 0.0165\n",
            "Epoch 23/100\n",
            "64/64 [==============================] - 40s 627ms/step - loss: 5.0361 - accuracy: 0.0764 - val_loss: 295.7564 - val_accuracy: 0.0052\n",
            "Epoch 24/100\n",
            "64/64 [==============================] - 40s 624ms/step - loss: 5.6911 - accuracy: 0.0441 - val_loss: 14.7102 - val_accuracy: 0.0124\n",
            "Epoch 25/100\n",
            "64/64 [==============================] - 44s 691ms/step - loss: 5.0249 - accuracy: 0.0707 - val_loss: 28.3159 - val_accuracy: 0.0085\n",
            "Epoch 26/100\n",
            "64/64 [==============================] - 41s 635ms/step - loss: 4.6526 - accuracy: 0.0910 - val_loss: 34.0223 - val_accuracy: 0.0060\n",
            "Epoch 27/100\n",
            "64/64 [==============================] - 40s 626ms/step - loss: 4.3852 - accuracy: 0.1089 - val_loss: 16.6393 - val_accuracy: 0.0178\n",
            "Epoch 28/100\n",
            "64/64 [==============================] - 40s 625ms/step - loss: 4.2332 - accuracy: 0.1202 - val_loss: 13.4120 - val_accuracy: 0.0173\n",
            "Epoch 29/100\n",
            "64/64 [==============================] - 43s 677ms/step - loss: 4.2371 - accuracy: 0.1259 - val_loss: 39.6403 - val_accuracy: 0.0093\n",
            "Epoch 30/100\n",
            "64/64 [==============================] - 41s 644ms/step - loss: 4.1897 - accuracy: 0.1205 - val_loss: 5.1486 - val_accuracy: 0.0664\n",
            "Epoch 31/100\n",
            "64/64 [==============================] - 40s 623ms/step - loss: 4.1151 - accuracy: 0.1389 - val_loss: 6.9534 - val_accuracy: 0.0448\n",
            "Epoch 32/100\n",
            "64/64 [==============================] - 40s 624ms/step - loss: 3.9049 - accuracy: 0.1531 - val_loss: 12.1341 - val_accuracy: 0.0165\n",
            "Epoch 33/100\n",
            "64/64 [==============================] - 41s 641ms/step - loss: 3.7080 - accuracy: 0.1734 - val_loss: 22.1076 - val_accuracy: 0.0098\n",
            "Epoch 34/100\n",
            "64/64 [==============================] - 42s 661ms/step - loss: 3.5189 - accuracy: 0.1976 - val_loss: 12.4939 - val_accuracy: 0.0211\n",
            "Epoch 35/100\n",
            "64/64 [==============================] - 40s 623ms/step - loss: 3.3715 - accuracy: 0.2097 - val_loss: 12.7835 - val_accuracy: 0.0240\n",
            "Epoch 36/100\n",
            "64/64 [==============================] - 40s 621ms/step - loss: 3.2312 - accuracy: 0.2308 - val_loss: 7.8037 - val_accuracy: 0.0555\n",
            "Epoch 37/100\n",
            "64/64 [==============================] - 40s 622ms/step - loss: 3.0898 - accuracy: 0.2459 - val_loss: 9.0934 - val_accuracy: 0.0390\n",
            "Epoch 38/100\n",
            "64/64 [==============================] - 44s 691ms/step - loss: 2.9787 - accuracy: 0.2602 - val_loss: 5.9953 - val_accuracy: 0.0764\n",
            "Epoch 39/100\n",
            "64/64 [==============================] - 41s 639ms/step - loss: 2.8581 - accuracy: 0.2793 - val_loss: 5.2950 - val_accuracy: 0.1097\n",
            "Epoch 40/100\n",
            "64/64 [==============================] - 40s 623ms/step - loss: 2.7355 - accuracy: 0.3062 - val_loss: 6.5288 - val_accuracy: 0.0817\n",
            "Epoch 41/100\n",
            "64/64 [==============================] - 40s 626ms/step - loss: 2.6314 - accuracy: 0.3162 - val_loss: 5.6019 - val_accuracy: 0.1005\n",
            "Epoch 42/100\n",
            "64/64 [==============================] - 43s 675ms/step - loss: 2.4889 - accuracy: 0.3479 - val_loss: 6.4510 - val_accuracy: 0.0878\n",
            "Epoch 43/100\n",
            "64/64 [==============================] - 41s 647ms/step - loss: 2.4122 - accuracy: 0.3584 - val_loss: 4.7375 - val_accuracy: 0.1405\n",
            "Epoch 44/100\n",
            "64/64 [==============================] - 40s 628ms/step - loss: 2.2948 - accuracy: 0.3804 - val_loss: 4.4339 - val_accuracy: 0.1586\n",
            "Epoch 45/100\n",
            "64/64 [==============================] - 40s 625ms/step - loss: 2.1922 - accuracy: 0.4005 - val_loss: 5.2037 - val_accuracy: 0.1305\n",
            "Epoch 46/100\n",
            "64/64 [==============================] - 43s 666ms/step - loss: 2.0817 - accuracy: 0.4251 - val_loss: 12.6914 - val_accuracy: 0.1399\n",
            "Epoch 47/100\n",
            "64/64 [==============================] - 41s 647ms/step - loss: 2.0064 - accuracy: 0.4374 - val_loss: 8.5459 - val_accuracy: 0.2163\n",
            "Epoch 48/100\n",
            "64/64 [==============================] - 40s 624ms/step - loss: 1.8752 - accuracy: 0.4702 - val_loss: 10.4478 - val_accuracy: 0.1990\n",
            "Epoch 49/100\n",
            "64/64 [==============================] - 40s 623ms/step - loss: 1.7799 - accuracy: 0.4939 - val_loss: 9.1842 - val_accuracy: 0.2469\n",
            "Epoch 50/100\n",
            "64/64 [==============================] - 43s 676ms/step - loss: 1.6818 - accuracy: 0.5138 - val_loss: 21.4365 - val_accuracy: 0.1558\n",
            "Epoch 51/100\n",
            "64/64 [==============================] - 42s 651ms/step - loss: 1.6075 - accuracy: 0.5365 - val_loss: 3.8404 - val_accuracy: 0.2296\n",
            "Epoch 52/100\n",
            "64/64 [==============================] - 40s 627ms/step - loss: 1.4886 - accuracy: 0.5603 - val_loss: 10.5613 - val_accuracy: 0.2689\n",
            "Epoch 53/100\n",
            "64/64 [==============================] - 40s 626ms/step - loss: 1.4313 - accuracy: 0.5750 - val_loss: 177.2893 - val_accuracy: 0.1762\n",
            "Epoch 54/100\n",
            "64/64 [==============================] - 42s 649ms/step - loss: 1.3403 - accuracy: 0.5963 - val_loss: 3.5596 - val_accuracy: 0.2830\n",
            "Epoch 55/100\n",
            "64/64 [==============================] - 43s 664ms/step - loss: 1.2261 - accuracy: 0.6267 - val_loss: 89.4153 - val_accuracy: 0.1472\n",
            "Epoch 56/100\n",
            "64/64 [==============================] - 40s 626ms/step - loss: 1.2057 - accuracy: 0.6376 - val_loss: 3.0101 - val_accuracy: 0.3380\n",
            "Epoch 57/100\n",
            "64/64 [==============================] - 40s 622ms/step - loss: 1.0816 - accuracy: 0.6669 - val_loss: 19.3309 - val_accuracy: 0.2641\n",
            "Epoch 58/100\n",
            "64/64 [==============================] - 40s 623ms/step - loss: 1.0296 - accuracy: 0.6804 - val_loss: 104.2652 - val_accuracy: 0.2488\n",
            "Epoch 59/100\n",
            "64/64 [==============================] - 44s 685ms/step - loss: 0.9762 - accuracy: 0.6974 - val_loss: 3.6145 - val_accuracy: 0.3007\n",
            "Epoch 60/100\n",
            "64/64 [==============================] - 41s 640ms/step - loss: 0.8771 - accuracy: 0.7237 - val_loss: 20.3301 - val_accuracy: 0.3279\n",
            "Epoch 61/100\n",
            "64/64 [==============================] - 40s 623ms/step - loss: 0.8042 - accuracy: 0.7453 - val_loss: 49.0419 - val_accuracy: 0.2868\n",
            "Epoch 62/100\n",
            "64/64 [==============================] - 40s 621ms/step - loss: 0.7364 - accuracy: 0.7676 - val_loss: 104.2733 - val_accuracy: 0.3267\n",
            "Epoch 63/100\n",
            "64/64 [==============================] - 43s 680ms/step - loss: 0.6935 - accuracy: 0.7791 - val_loss: 15.3913 - val_accuracy: 0.3238\n",
            "Epoch 64/100\n",
            "64/64 [==============================] - 41s 639ms/step - loss: 0.6753 - accuracy: 0.7833 - val_loss: 76.4399 - val_accuracy: 0.3107\n",
            "Epoch 65/100\n",
            "64/64 [==============================] - 40s 621ms/step - loss: 0.6292 - accuracy: 0.7981 - val_loss: 201.7115 - val_accuracy: 0.3105\n",
            "Epoch 66/100\n",
            "64/64 [==============================] - 40s 624ms/step - loss: 0.6011 - accuracy: 0.8107 - val_loss: 49.7895 - val_accuracy: 0.3355\n",
            "Epoch 67/100\n",
            "64/64 [==============================] - 40s 623ms/step - loss: 0.5578 - accuracy: 0.8220 - val_loss: 959.8405 - val_accuracy: 0.1139\n",
            "Epoch 68/100\n",
            "64/64 [==============================] - 44s 686ms/step - loss: 0.6172 - accuracy: 0.8067 - val_loss: 22.5416 - val_accuracy: 0.1222\n",
            "Epoch 69/100\n",
            "64/64 [==============================] - 41s 644ms/step - loss: 0.5371 - accuracy: 0.8242 - val_loss: 23.8312 - val_accuracy: 0.2546\n",
            "Epoch 70/100\n",
            "64/64 [==============================] - 40s 625ms/step - loss: 0.4521 - accuracy: 0.8497 - val_loss: 21.6572 - val_accuracy: 0.2924\n",
            "Epoch 71/100\n",
            "64/64 [==============================] - 40s 626ms/step - loss: 0.4508 - accuracy: 0.8600 - val_loss: 16.7786 - val_accuracy: 0.2549\n",
            "Epoch 72/100\n",
            "64/64 [==============================] - 43s 678ms/step - loss: 0.4244 - accuracy: 0.8641 - val_loss: 11.0597 - val_accuracy: 0.2804\n",
            "Epoch 73/100\n",
            "64/64 [==============================] - ETA: 0s - loss: 0.3825 - accuracy: 0.8752"
          ],
          "name": "stdout"
        }
      ]
    },
    {
      "cell_type": "code",
      "metadata": {
        "id": "2lS80E_YmiV7"
      },
      "source": [
        ""
      ],
      "execution_count": null,
      "outputs": []
    },
    {
      "cell_type": "code",
      "metadata": {
        "id": "njVqC1xUeHub"
      },
      "source": [
        "\n",
        "CLASS_INDEX={}\n",
        "for i in range(len(classes_name)):\n",
        "  CLASS_INDEX[str(i)]=[str(i),classes_name[i]]\n",
        "print(CLASS_INDEX)\n",
        "# from tensorflow.python.keras.utils import data_utils\n",
        "# import json\n",
        "# CLASS_INDEX= {\n",
        "#             '0':  ['n01440764', 'tench'],\n",
        "#             '1':  ['n02102040', 'English_springer'],\n",
        "#             '2':  ['n02979186',  'casette_player'],\n",
        "#             '3':  ['n03000684', 'chain_saw'],\n",
        "#             '4':  ['n03028079',  'church'],\n",
        "#             '5':  ['n03394916',  'French_horn'],\n",
        "#             '6':  ['n03417042',  'garbage_truck'],\n",
        "#             '7':  ['n03425413',  'gas_pump'],\n",
        "#             '8':  ['n03445777',  'golf_ball'],\n",
        "#             '9':  ['n03888257', 'parachute']\n",
        "#         }\n",
        "# # CLASS_INDEX_PATH = ('https://storage.googleapis.com/download.tensorflow.org/'\n",
        "# #                     'data/imagenet_class_index.json')\n",
        "# # def test_my_decode_predictions(*args, **kwargs):\n",
        "# #     return my_decode_predictions(*args, **kwargs)\n",
        "\n",
        "\n",
        "def my_decode_predictions(preds, top=5, **kwargs): \n",
        "  \n",
        "    \n",
        "\n",
        "    # print(CLASS_INDEX)\n",
        "    results = []\n",
        "    for pred in preds:\n",
        "        top_indices = pred.argsort()[-top:][::-1]\n",
        "        result = [tuple(CLASS_INDEX[str(i)]) + (pred[i],) for i in top_indices]\n",
        "        result.sort(key=lambda x: x[2], reverse=True)\n",
        "        results.append(result)\n",
        "    return results"
      ],
      "execution_count": null,
      "outputs": []
    },
    {
      "cell_type": "code",
      "metadata": {
        "id": "OeP_66IpXIe_"
      },
      "source": [
        "test_images_array=[]\n",
        "input_images_array=[]\n",
        "\n",
        "\n",
        "img = image.load_img(train_data_dir+'/00073.jpg', target_size=(224, 224))\n",
        "input_images_array.append(img)\n",
        "img2 = image_utils.img_to_array(img)  \n",
        "pre_processed_image = preprocess_input(img2);\n",
        "test_images_array.append(pre_processed_image)\n",
        "\n",
        "prediction_output_arr=[]\n",
        "prediction_output_decoded_arr=[]\n",
        "for i in range(len(test_images_array)): \n",
        "  prediction_result= model.predict(test_images_array[i][np.newaxis,...])  \n",
        "  prediction_output=my_decode_predictions(prediction_result)\n",
        "  # prediction_output_arr.append(prediction_result)\n",
        "  # prediction_output_decoded_arr.append(prediction_output)\n",
        "  print(prediction_output)"
      ],
      "execution_count": null,
      "outputs": []
    },
    {
      "cell_type": "code",
      "metadata": {
        "id": "tmeJ8h_keGHH"
      },
      "source": [
        "\n",
        "from shutil import copyfile\n",
        "path_base='/content/final_project/data'\n",
        "train_data_dir = path_base + '/cars_train'\n",
        "validation_data_dir = path_base + '/cars_test'\n",
        "\n",
        "\n",
        "annos = loadmat('/content/final_project/data/devkit/cars_train_annos.mat')\n",
        "data = [[row.flat[0] for row in line] for line in annos['annotations'][0]]\n",
        "columns = ['bbox_x1', 'bbox_y1', 'bbox_x2', 'bbox_y2', 'class', 'fname']\n",
        "df_train = pd.DataFrame(data, columns=columns)\n",
        "df_train"
      ],
      "execution_count": null,
      "outputs": []
    },
    {
      "cell_type": "code",
      "metadata": {
        "id": "tWhTFAS2XYgo"
      },
      "source": [
        "x=z"
      ],
      "execution_count": null,
      "outputs": []
    },
    {
      "cell_type": "code",
      "metadata": {
        "id": "Uei0SI1C3Oav"
      },
      "source": [
        "predictions = model.predict(x=validation_generator, verbose=0)\n",
        "np.round(predictions)"
      ],
      "execution_count": null,
      "outputs": []
    },
    {
      "cell_type": "code",
      "metadata": {
        "id": "w11kmcuwuWYu"
      },
      "source": [
        "def build_model():\n",
        "    base_model = densenet.DenseNet121(input_shape=(img_width, img_height, 3),\n",
        "                                     \n",
        "                                     include_top=False,\n",
        "                                     pooling='avg')\n",
        "    for layer in base_model.layers:\n",
        "      layer.trainable = True\n",
        "\n",
        "    x = base_model.output\n",
        "    x = Dense(1000, kernel_regularizer=regularizers.l1_l2(0.01), activity_regularizer=regularizers.l2(0.01))(x)\n",
        "    x = Activation('relu')(x)\n",
        "    x = Dense(500, kernel_regularizer=regularizers.l1_l2(0.01), activity_regularizer=regularizers.l2(0.01))(x)\n",
        "    x = Activation('relu')(x)\n",
        "    predictions = Dense(n_classes, activation='softmax')(x)\n",
        "    model = Model(inputs=base_model.input, outputs=predictions)\n",
        "    \n",
        "    return model"
      ],
      "execution_count": null,
      "outputs": []
    },
    {
      "cell_type": "code",
      "metadata": {
        "id": "rWO5bp9WuaeV"
      },
      "source": [
        "model = build_model()\n",
        "model.compile(loss='categorical_crossentropy', optimizer='adam', metrics=['acc', 'mse'])"
      ],
      "execution_count": null,
      "outputs": []
    },
    {
      "cell_type": "code",
      "metadata": {
        "id": "9XPFumZTuiGH"
      },
      "source": [
        "early_stop = EarlyStopping(monitor='val_loss', patience=8, verbose=1, min_delta=1e-4)\n",
        "reduce_lr = ReduceLROnPlateau(monitor='val_loss', factor=0.1, patience=4, verbose=1, min_delta=1e-4)\n",
        "callbacks_list = [early_stop, reduce_lr]"
      ],
      "execution_count": null,
      "outputs": []
    },
    {
      "cell_type": "code",
      "metadata": {
        "id": "ssjFzDU9uo_A"
      },
      "source": [
        "model_history = model.fit(\n",
        "    train_generator,\n",
        "    epochs=epochs,\n",
        "    validation_data=validation_generator\n",
        "    # , callbacks=callbacks_list\n",
        "    )"
      ],
      "execution_count": null,
      "outputs": []
    }
  ]
}