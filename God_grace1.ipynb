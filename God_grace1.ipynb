{
  "nbformat": 4,
  "nbformat_minor": 0,
  "metadata": {
    "colab": {
      "name": "Yolov4_Traffic_sign_detection.ipynb",
      "provenance": [],
      "collapsed_sections": [],
      "toc_visible": true,
      "include_colab_link": true
    },
    "kernelspec": {
      "name": "python3",
      "display_name": "Python 3"
    },
    "accelerator": "GPU"
  },
  "cells": [
    {
      "cell_type": "markdown",
      "metadata": {
        "id": "view-in-github",
        "colab_type": "text"
      },
      "source": [
        "<a href=\"https://colab.research.google.com/github/appersaravanan/final_project/blob/master/God_grace1.ipynb\" target=\"_parent\"><img src=\"https://colab.research.google.com/assets/colab-badge.svg\" alt=\"Open In Colab\"/></a>"
      ]
    },
    {
      "cell_type": "code",
      "metadata": {
        "id": "d4l6GLrsp7Hd"
      },
      "source": [
        "from keras.preprocessing.image import ImageDataGenerator\n",
        "from keras.applications import densenet\n",
        "from keras.models import Sequential, Model, load_model\n",
        "from keras.layers import Conv2D, MaxPooling2D\n",
        "from keras.layers import Activation, Dropout, Flatten, Dense\n",
        "from keras.callbacks import EarlyStopping, ReduceLROnPlateau, ModelCheckpoint, Callback\n",
        "from keras import regularizers\n",
        "from keras import backend as K\n",
        "from keras.applications import VGG16\n",
        "import numpy as np\n",
        "import tensorflow as tf\n",
        "from tensorflow import keras\n",
        "from tensorflow.keras.layers import  MaxPooling2D,UpSampling2D,Input,BatchNormalization,Conv2D,Activation,MaxPool2D,Flatten,Dense\n",
        "from tensorflow.keras.models import Model,Sequential,load_model\n",
        "from tensorflow.keras.optimizers import Adam\n",
        "from tensorflow.keras.datasets import cifar10\n",
        "import matplotlib.pyplot as plt\n",
        "from keras.utils import np_utils\n",
        "from keras.preprocessing import image as image_utils\n",
        "from keras.applications.imagenet_utils import decode_predictions\n",
        "from keras.applications.imagenet_utils import preprocess_input\n",
        "from keras.applications import VGG16\n",
        "import cv2,os,tempfile\n",
        "import requests\n",
        "from keras.preprocessing import image\n",
        "from scipy.io import loadmat\n",
        "import tensorflow as tf\n",
        "import pandas as pd\n",
        "import cv2\n",
        "import matplotlib.pyplot as plt"
      ],
      "execution_count": 24,
      "outputs": []
    },
    {
      "cell_type": "code",
      "metadata": {
        "id": "ME4o5kyqqEec"
      },
      "source": [
        "img_width, img_height = 224, 224\n",
        "nb_train_samples = 8144\n",
        "nb_validation_samples = 8041\n",
        "epochs = 10\n",
        "batch_size = 32\n",
        "n_classes = 196"
      ],
      "execution_count": 2,
      "outputs": []
    },
    {
      "cell_type": "code",
      "metadata": {
        "colab": {
          "base_uri": "https://localhost:8080/"
        },
        "id": "RnSVS02BqOb0",
        "outputId": "98df07c5-5926-4966-f836-6f39f6369e42"
      },
      "source": [
        "from google.colab import drive\n",
        "drive.mount('/content/drive')\n",
        "%cd /content\n",
        "!mkdir final_project\n",
        "%cd ./final_project\n",
        "!mkdir data\n",
        "%cd data"
      ],
      "execution_count": 3,
      "outputs": [
        {
          "output_type": "stream",
          "text": [
            "Mounted at /content/drive\n",
            "/content\n",
            "/content/final_project\n",
            "/content/final_project/data\n"
          ],
          "name": "stdout"
        }
      ]
    },
    {
      "cell_type": "code",
      "metadata": {
        "colab": {
          "base_uri": "https://localhost:8080/"
        },
        "id": "iAO2wbigrUfy",
        "outputId": "e4ec45a5-ec7f-408c-f1be-dcd94a26acb3"
      },
      "source": [
        "\n",
        "!rm -f car_devkit.tgz\n",
        "!wget https://ai.stanford.edu/~jkrause/cars/car_devkit.tgz\n",
        "!tar xvzf car_devkit.tgz"
      ],
      "execution_count": 4,
      "outputs": [
        {
          "output_type": "stream",
          "text": [
            "--2020-12-04 18:34:17--  https://ai.stanford.edu/~jkrause/cars/car_devkit.tgz\n",
            "Resolving ai.stanford.edu (ai.stanford.edu)... 171.64.68.10\n",
            "Connecting to ai.stanford.edu (ai.stanford.edu)|171.64.68.10|:443... connected.\n",
            "HTTP request sent, awaiting response... 200 OK\n",
            "Length: 330960 (323K) [application/x-gzip]\n",
            "Saving to: ‘car_devkit.tgz’\n",
            "\n",
            "car_devkit.tgz      100%[===================>] 323.20K   350KB/s    in 0.9s    \n",
            "\n",
            "2020-12-04 18:34:19 (350 KB/s) - ‘car_devkit.tgz’ saved [330960/330960]\n",
            "\n",
            "devkit/\n",
            "devkit/cars_meta.mat\n",
            "devkit/cars_train_annos.mat\n",
            "devkit/cars_test_annos.mat\n",
            "devkit/README.txt\n",
            "devkit/train_perfect_preds.txt\n",
            "devkit/eval_train.m\n"
          ],
          "name": "stdout"
        }
      ]
    },
    {
      "cell_type": "code",
      "metadata": {
        "id": "M9rC6jt5tTGr"
      },
      "source": [
        "!wget http://imagenet.stanford.edu/internal/car196/cars_train.tgz\n",
        "\n",
        "!tar xvzf cars_train.tgz\n",
        "!rm -f cars_train.tgz\n"
      ],
      "execution_count": null,
      "outputs": []
    },
    {
      "cell_type": "code",
      "metadata": {
        "colab": {
          "base_uri": "https://localhost:8080/"
        },
        "id": "g7k-QCs2DF_N",
        "outputId": "434a0900-f3be-4e90-fc44-a574155ba23e"
      },
      "source": [
        "%cd /content/final_project/data"
      ],
      "execution_count": 6,
      "outputs": [
        {
          "output_type": "stream",
          "text": [
            "/content/final_project/data\n"
          ],
          "name": "stdout"
        }
      ]
    },
    {
      "cell_type": "code",
      "metadata": {
        "id": "6wxJRMegC-fV"
      },
      "source": [
        "!wget http://imagenet.stanford.edu/internal/car196/cars_test.tgz\n",
        "!tar xvzf cars_test.tgz\n",
        "!rm -f cars_test.tgz"
      ],
      "execution_count": null,
      "outputs": []
    },
    {
      "cell_type": "code",
      "metadata": {
        "id": "0v6l7PWYL7kI"
      },
      "source": [
        "%cd /content/final_project/data/cars_train/\n",
        "annotsa = loadmat('/content/final_project/data/devkit/cars_meta.mat')\n",
        "i=1\n",
        "classes_name=[]\n",
        "for name in annotsa['class_names'][0]:\n",
        "  dir_name=str(i)+'_'+str(name[0]).replace(' ','_')\n",
        "  #os.makedirs(dir_name)\n",
        "  classes_name.append(dir_name)\n",
        "  i=i+1\n",
        "classes_name\n"
      ],
      "execution_count": null,
      "outputs": []
    },
    {
      "cell_type": "code",
      "metadata": {
        "id": "RbXBe7IEo7T7"
      },
      "source": [
        "%cd /content/final_project/data/cars_test/\n",
        "annotsa = loadmat('/content/final_project/data/devkit/cars_meta.mat')\n",
        "i=1\n",
        "classes_name=[]\n",
        "for name in annotsa['class_names'][0]:\n",
        "  dir_name=str(i)+'_'+str(name[0]).replace(' ','_')\n",
        "  os.makedirs(dir_name)\n",
        "  classes_name.append(dir_name)\n",
        "  i=i+1\n",
        "classes_name"
      ],
      "execution_count": null,
      "outputs": []
    },
    {
      "cell_type": "code",
      "metadata": {
        "id": "KpvFfBHNUyvr"
      },
      "source": [
        "import shutil\n",
        "from shutil import copyfile\n",
        "path_base='/content/final_project/data'\n",
        "train_data_dir = path_base + '/cars_train'\n",
        "validation_data_dir = path_base + '/cars_test'\n",
        "\n",
        "\n",
        "annos = loadmat('/content/final_project/data/devkit/cars_train_annos.mat')\n",
        "data = [[row.flat[0] for row in line] for line in annos['annotations'][0]]\n",
        "columns = ['bbox_x1', 'bbox_y1', 'bbox_x2', 'bbox_y2', 'class', 'fname']\n",
        "df_train = pd.DataFrame(data, columns=columns)\n",
        "gp=df_train.groupby('class')\n",
        "files=\"\"\n",
        "for index,classes in gp:\n",
        "    # print (classes_name[index-1])\n",
        "    files=classes['fname']\n",
        "    i=0\n",
        "    for name,file in files.items():\n",
        "        # print(file)\n",
        "        copyfile('{}/{}'.format(train_data_dir,file),'{}/{}/{}'.format(train_data_dir,classes_name[index-1],file))\n",
        "        if i<25:\n",
        "          copyfile('{}/{}'.format(validation_data_dir,file),'{}/{}/{}'.format(validation_data_dir,classes_name[index-1],file))\n",
        "        i=i+1\n"
      ],
      "execution_count": 73,
      "outputs": []
    },
    {
      "cell_type": "code",
      "metadata": {
        "id": "cPPXcNo0osbs"
      },
      "source": [
        ""
      ],
      "execution_count": null,
      "outputs": []
    },
    {
      "cell_type": "code",
      "metadata": {
        "colab": {
          "base_uri": "https://localhost:8080/"
        },
        "id": "wbSinBdiDUEB",
        "outputId": "754badec-e096-47a4-f644-da0dc2172294"
      },
      "source": [
        "\n",
        "\n",
        "train_datagen = ImageDataGenerator(\n",
        "    rescale=1. / 255,\n",
        "    #shear_range=0.2,\n",
        "    zoom_range=0.2,\n",
        "    #fill_mode = 'constant',\n",
        "    #cval = 1,\n",
        "    rotation_range = 5,\n",
        "    #width_shift_range=0.2,\n",
        "    #height_shift_range=0.2,\n",
        "    horizontal_flip=True)\n",
        "\n",
        "test_datagen = ImageDataGenerator(rescale=1. / 255)\n",
        "\n",
        "train_generator = train_datagen.flow_from_directory(\n",
        "    train_data_dir,\n",
        "    target_size=(img_width, img_height),\n",
        "    batch_size=batch_size,\n",
        "    classes=classes_name)\n",
        "\n",
        "validation_generator = test_datagen.flow_from_directory(\n",
        "    validation_data_dir,\n",
        "    target_size=(img_width, img_height),\n",
        "    batch_size=batch_size,\n",
        "    classes=classes_name)"
      ],
      "execution_count": 74,
      "outputs": [
        {
          "output_type": "stream",
          "text": [
            "Found 8144 images belonging to 196 classes.\n",
            "Found 4899 images belonging to 196 classes.\n"
          ],
          "name": "stdout"
        }
      ]
    },
    {
      "cell_type": "code",
      "metadata": {
        "id": "u2O8hL1YnVdy"
      },
      "source": [
        ""
      ],
      "execution_count": null,
      "outputs": []
    },
    {
      "cell_type": "code",
      "metadata": {
        "id": "-hzSh8GTDqPI"
      },
      "source": [
        "\n",
        "vgg16_model = VGG16(include_top=True,weights=\"imagenet\")\n",
        "\n",
        "model = Sequential()\n",
        "for layer in vgg16_model.layers[:-1]:\n",
        "    model.add(layer)\n",
        "for layer in model.layers:\n",
        "    layer.trainable = False\n",
        "model.add(Dense(units=196, activation='softmax'))"
      ],
      "execution_count": 76,
      "outputs": []
    },
    {
      "cell_type": "code",
      "metadata": {
        "id": "fQhIXpwuDsc_"
      },
      "source": [
        "model.compile(loss='categorical_crossentropy', optimizer='adam', metrics=['acc', 'mse'])"
      ],
      "execution_count": 77,
      "outputs": []
    },
    {
      "cell_type": "code",
      "metadata": {
        "id": "4yHCxBh7DwEf"
      },
      "source": [
        "early_stop = EarlyStopping(monitor='val_loss', patience=8, verbose=1, min_delta=1e-4)\n",
        "reduce_lr = ReduceLROnPlateau(monitor='val_loss', factor=0.1, patience=4, verbose=1, min_delta=1e-4)\n",
        "callbacks_list = [early_stop, reduce_lr]"
      ],
      "execution_count": 15,
      "outputs": []
    },
    {
      "cell_type": "code",
      "metadata": {
        "id": "xyX9lEk2Nicu"
      },
      "source": [
        "model.summary()\n",
        "len(train_generator)"
      ],
      "execution_count": null,
      "outputs": []
    },
    {
      "cell_type": "code",
      "metadata": {
        "colab": {
          "base_uri": "https://localhost:8080/"
        },
        "id": "F1G0roZbDzmB",
        "outputId": "6a7fca3e-7b0f-4e79-bbaa-510bf8cef778"
      },
      "source": [
        "model_history = model.fit(\n",
        "    train_generator,\n",
        "    epochs=100,\n",
        "    validation_data=validation_generator\n",
        "    #validation_steps=nb_validation_samples // batch_size\n",
        "    #callbacks=callbacks_list\n",
        "    )"
      ],
      "execution_count": null,
      "outputs": [
        {
          "output_type": "stream",
          "text": [
            "Epoch 1/100\n",
            "255/255 [==============================] - 197s 774ms/step - loss: 4.1029 - acc: 0.1805 - mse: 0.0047 - val_loss: 8.2306 - val_acc: 0.0045 - val_mse: 0.0057\n",
            "Epoch 2/100\n",
            "255/255 [==============================] - 195s 765ms/step - loss: 4.0386 - acc: 0.1928 - mse: 0.0047 - val_loss: 8.3681 - val_acc: 0.0061 - val_mse: 0.0057\n",
            "Epoch 3/100\n",
            "255/255 [==============================] - ETA: 0s - loss: 3.9224 - acc: 0.2015 - mse: 0.0047"
          ],
          "name": "stdout"
        }
      ]
    },
    {
      "cell_type": "code",
      "metadata": {
        "id": "Uei0SI1C3Oav"
      },
      "source": [
        "predictions = model.predict(x=validation_generator, verbose=0)\n",
        "np.round(predictions)"
      ],
      "execution_count": null,
      "outputs": []
    }
  ]
}